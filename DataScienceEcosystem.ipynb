{
 "cells": [
  {
   "cell_type": "markdown",
   "id": "ff1234ac-485e-45f4-be8e-779da93e6f8b",
   "metadata": {},
   "source": [
    "# Data Science Tools and Ecosystem"
   ]
  },
  {
   "cell_type": "markdown",
   "id": "e4c021e5-70c4-481d-ae2c-e924e091e875",
   "metadata": {},
   "source": [
    "## In this notebook, Data Science Tools and Ecosystem are summarized."
   ]
  },
  {
   "cell_type": "markdown",
   "id": "4634fcd8-c07a-4f19-bef8-14246844bd68",
   "metadata": {},
   "source": [
    "## Some of the popular languages that Data Scientists use are:\n",
    "### Python\n",
    "### R\n",
    "### Java\n",
    "### SQL\n",
    "### Julia"
   ]
  },
  {
   "cell_type": "markdown",
   "id": "d6e12cb6-f8f6-4d2e-b7ed-f876acd431ca",
   "metadata": {},
   "source": [
    "### Some of the commonly used libraries used by Data Scientists include:\n",
    "### NumPy\n",
    "### Pandas\n",
    "### Matplotlib\n",
    "### SciPy"
   ]
  },
  {
   "cell_type": "markdown",
   "id": "74ac7dde-54d7-473b-8336-57f499812b1b",
   "metadata": {},
   "source": [
    "| Data Science Tools |\n",
    "| -------------|\n",
    "| Apache Spark |\n",
    "| TensorFlow |\n",
    "| Apache Hadoop |"
   ]
  },
  {
   "cell_type": "markdown",
   "id": "17fe5148-e68f-44f8-98ab-b0c14b253300",
   "metadata": {},
   "source": [
    "### Below are a few examples of evaluating arithmetic expressions in Python"
   ]
  },
  {
   "cell_type": "code",
   "execution_count": 7,
   "id": "8082a3ea-bdf3-49e7-b0fd-ea895fbde2a2",
   "metadata": {},
   "outputs": [
    {
     "name": "stdout",
     "output_type": "stream",
     "text": [
      "17\n"
     ]
    }
   ],
   "source": [
    "## This a simple arithmetic expression to mutiply then add integers\n",
    "\n",
    "print((3*4)+5)\n"
   ]
  },
  {
   "cell_type": "code",
   "execution_count": 9,
   "id": "0b41ffad-cdc7-4706-9b2b-7b6919807a5a",
   "metadata": {},
   "outputs": [
    {
     "name": "stdout",
     "output_type": "stream",
     "text": [
      "3.3333333333333335\n"
     ]
    }
   ],
   "source": [
    "## This will convert 200 minutes to hours by diving by 60\n",
    "\n",
    "print(200/60);\n"
   ]
  },
  {
   "cell_type": "markdown",
   "id": "40b6885d-da90-46d2-b62a-348d4ed11007",
   "metadata": {},
   "source": [
    "### Some of the key takeaways from the course\n",
    "**Objectives:**\n",
    "- List popular languages for Data Science\n",
    "- Some of the commonly used libraries used by Data Scientists\n",
    "- Examples of evaluating arithmetic expressions in Python\n",
    "- How to use Juypter notebook headers\n"
   ]
  },
  {
   "cell_type": "markdown",
   "id": "33b37f2a-e136-45b9-b37c-6fd82f5b0f32",
   "metadata": {},
   "source": [
    "## Author\n",
    "Roshini"
   ]
  }
 ],
 "metadata": {
  "kernelspec": {
   "display_name": "Python 3 (ipykernel)",
   "language": "python",
   "name": "python3"
  },
  "language_info": {
   "codemirror_mode": {
    "name": "ipython",
    "version": 3
   },
   "file_extension": ".py",
   "mimetype": "text/x-python",
   "name": "python",
   "nbconvert_exporter": "python",
   "pygments_lexer": "ipython3",
   "version": "3.12.7"
  }
 },
 "nbformat": 4,
 "nbformat_minor": 5
}
