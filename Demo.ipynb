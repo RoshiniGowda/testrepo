{
 "cells": [
  {
   "cell_type": "code",
   "execution_count": 1,
   "id": "c71f1777-3cb9-441a-b04e-140903f890c2",
   "metadata": {},
   "outputs": [
    {
     "name": "stdout",
     "output_type": "stream",
     "text": [
      "New Life\n"
     ]
    }
   ],
   "source": [
    "print(\"New Life\");"
   ]
  },
  {
   "cell_type": "markdown",
   "id": "ac7ba014-56f0-4468-8a01-859dda08b304",
   "metadata": {},
   "source": [
    "dd"
   ]
  },
  {
   "cell_type": "markdown",
   "id": "43cd70a3-6527-4fcd-962c-808b41fa037b",
   "metadata": {},
   "source": [
    "##gf\n",
    "eee\n",
    "#### rfff"
   ]
  },
  {
   "cell_type": "markdown",
   "id": "3355cda6-de79-465e-87ce-870eaf60271e",
   "metadata": {},
   "source": [
    "## \n",
    "###eeeeee\n",
    "#####vcxz###\n"
   ]
  }
 ],
 "metadata": {
  "kernelspec": {
   "display_name": "Python 3 (ipykernel)",
   "language": "python",
   "name": "python3"
  },
  "language_info": {
   "codemirror_mode": {
    "name": "ipython",
    "version": 3
   },
   "file_extension": ".py",
   "mimetype": "text/x-python",
   "name": "python",
   "nbconvert_exporter": "python",
   "pygments_lexer": "ipython3",
   "version": "3.12.7"
  }
 },
 "nbformat": 4,
 "nbformat_minor": 5
}
